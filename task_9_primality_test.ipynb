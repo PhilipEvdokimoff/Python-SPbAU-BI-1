{
 "cells": [
  {
   "cell_type": "markdown",
   "metadata": {},
   "source": [
    "# Проверка числа на простоту\n",
    "\n",
    "### $\\textit{Тест Соловея-Штрассена}$"
   ]
  },
  {
   "cell_type": "code",
   "execution_count": 1,
   "metadata": {},
   "outputs": [
    {
     "name": "stdout",
     "output_type": "stream",
     "text": [
      "20 - простое число с вероятностью 0.5. Проверим наивным алгоритмом: False\n",
      "20 - составное число\n",
      "\n",
      "17 - простое число с вероятностью 0.5. Проверим наивным алгоритмом: True\n",
      "17 - простое число с вероятностью 0.75. Проверим наивным алгоритмом: True\n",
      "17 - простое число с вероятностью 0.875. Проверим наивным алгоритмом: True\n",
      "17 - простое число с вероятностью 0.9999990463256836. Проверим наивным алгоритмом: True\n",
      "\n",
      "62745 - составное число\n",
      "23456789877 - составное число\n"
     ]
    }
   ],
   "source": [
    "import random\n",
    "\n",
    "\n",
    "def is_prime(x): \n",
    "    \"\"\"Наивная проверка на простоту\"\"\"\n",
    "    b = True\n",
    "    for i in range(2, int(x ** 0.5) + 2):\n",
    "        if x % i == 0:\n",
    "            b = False\n",
    "            break\n",
    "    return b\n",
    "\n",
    "\n",
    "def gcd(a, b):\n",
    "    \"\"\"Алгоритм Евклида для работы алгоритма Соловея-Штрассена\"\"\"\n",
    "    if a >= b:\n",
    "        if b == 0:\n",
    "            return a\n",
    "        else:\n",
    "            return gcd(b, a % b)\n",
    "    else:\n",
    "        a, b = b, a\n",
    "        return gcd(a, b)\n",
    "\n",
    "\n",
    "def solovey_shtrassen(n, k):\n",
    "    \"\"\"Тест на простоту Соловея-Штрассена\"\"\"\n",
    "    for i in range(1, k + 1):\n",
    "        a = random.randint(2, n - 1)\n",
    "        if gcd(a, n) > 1:\n",
    "            return False\n",
    "        try:                                           # Питон работает медленно, и на больших числах\n",
    "            ((a ** ((n - 1) / 2)) - (a / n)) % n == 0  # может возникнуть ошибка OverflowError, которая\n",
    "        except OverflowError:                          # останавливает программу, но не означает некорректную\n",
    "            return False                               # работу алгоритма. Поэтому я её обхожу =)\n",
    "    return True\n",
    "\n",
    "\n",
    "def print_s_s(n, k):\n",
    "    \"\"\"Печать solovey_shtrassen\"\"\"\n",
    "    if solovey_shtrassen(n ,k):\n",
    "        print(str(n) +  \" - простое число с вероятностью \" + str(1 - (2 ** (-k))) + \". Проверим наивным алгоритмом: \" + str(is_prime(n)))\n",
    "    else:\n",
    "        print(str(n) +  \" - составное число\")\n",
    "\n",
    "\n",
    "\"\"\"Проверка работы программы\"\"\"\n",
    "\n",
    "print_s_s(20, 1)\n",
    "print_s_s(20, 2)\n",
    "print('')\n",
    "print_s_s(17, 1)\n",
    "print_s_s(17, 2)\n",
    "print_s_s(17, 3)\n",
    "print_s_s(17, 20)\n",
    "print('')\n",
    "print_s_s(62745, 1)\n",
    "print_s_s(23456789877, 1)"
   ]
  },
  {
   "cell_type": "markdown",
   "metadata": {},
   "source": [
    "Чем больше $\\textsf{k}$ (второй аргумент), тем точнее вычисления. Также роль в точности и скорости вычислений играет случайный выбор переменной $\\textsf{a}$. Запустите программу несколько раз, чтобы убедиться в этом."
   ]
  }
 ],
 "metadata": {
  "interpreter": {
   "hash": "aee8b7b246df8f9039afb4144a1f6fd8d2ca17a180786b69acc140d282b71a49"
  },
  "kernelspec": {
   "display_name": "Python 3.10.0 64-bit",
   "name": "python3"
  },
  "language_info": {
   "codemirror_mode": {
    "name": "ipython",
    "version": 3
   },
   "file_extension": ".py",
   "mimetype": "text/x-python",
   "name": "python",
   "nbconvert_exporter": "python",
   "pygments_lexer": "ipython3",
   "version": "3.10.7"
  }
 },
 "nbformat": 4,
 "nbformat_minor": 4
}
