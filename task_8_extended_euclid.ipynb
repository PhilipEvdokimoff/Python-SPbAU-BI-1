{
 "cells": [
  {
   "cell_type": "markdown",
   "metadata": {},
   "source": [
    "# Расширенный алгоритм Евклида\n",
    "\n",
    "### $\\textit{Поиск НОДа и НОКа двух чисел, а также линейного разложения НОДа}$\n",
    "\n",
    "$d = gcd(a,b)$, $ax + by = d$"
   ]
  },
  {
   "cell_type": "code",
   "execution_count": 11,
   "metadata": {},
   "outputs": [
    {
     "name": "stdout",
     "output_type": "stream",
     "text": [
      "НОД(5, 25): 5\n",
      "НОК(5, 25): 25\n",
      "x = 0, y = 1,\n",
      "d = 5 * x + 25 * y = 5 * 0 + 25 * 1 = 5\n",
      "\n",
      "НОД(32, 24): 8\n",
      "НОК(32, 24): 96\n",
      "x = 1, y = -1,\n",
      "d = 32 * x + 24 * y = 32 * 1 + 24 * -1 = 8\n",
      "\n",
      "НОД(7, 44): 1\n",
      "НОК(7, 44): 308\n",
      "x = -3, y = 19,\n",
      "d = 7 * x + 44 * y = 7 * -3 + 44 * 19 = 1\n"
     ]
    }
   ],
   "source": [
    "def gcd(a, b):\n",
    "    \"\"\"Алгоритм Евклида\"\"\"\n",
    "    if a >= b:\n",
    "        if b == 0:\n",
    "            return a\n",
    "        else:\n",
    "            return gcd(b, a % b)\n",
    "    else:\n",
    "        a, b = b, a\n",
    "        return gcd(a, b)\n",
    "\n",
    "\n",
    "def egcd(a, b):\n",
    "    \"\"\"Расширенный алгоритм Евклида\"\"\"\n",
    "    if a >= b:\n",
    "        if b == 0:\n",
    "            return (1, 0, a)\n",
    "        (x, y, _) = egcd(b, a % b)\n",
    "        return (y, x - (a // b) * y, gcd(a, b))\n",
    "    else:\n",
    "        a, b = b, a\n",
    "        return egcd(a, b)\n",
    "\n",
    "\n",
    "def print_egcd(a, b):\n",
    "    \"\"\"Печать egcd\"\"\" # Здесь ещё больше вещей, чем в print_gcd =)\n",
    "    print(f\"НОД({a}, {b}): \" + str(egcd(a, b)[2]) + f\"\\nНОК({a}, {b}): \" + str((a * b) // egcd(a, b)[2]))\n",
    "    print(f\"x = {egcd(a, b)[0]}, y = {egcd(a, b)[1]},\\nd = {a} * x + {b} * y = {a} * {egcd(a, b)[0]} + {b} * {egcd(a, b)[1]} = \" + str(egcd(a, b)[2]))\n",
    "\n",
    "\n",
    "\"\"\"Проверка работы программы\"\"\"\n",
    "\n",
    "print_egcd(5, 25)\n",
    "print('')\n",
    "print_egcd(32, 24)\n",
    "print('')\n",
    "print_egcd(7, 44)"
   ]
  }
 ],
 "metadata": {
  "kernelspec": {
   "display_name": "Python 3.10.7 64-bit",
   "language": "python",
   "name": "python3"
  },
  "language_info": {
   "codemirror_mode": {
    "name": "ipython",
    "version": 3
   },
   "file_extension": ".py",
   "mimetype": "text/x-python",
   "name": "python",
   "nbconvert_exporter": "python",
   "pygments_lexer": "ipython3",
   "version": "3.10.8"
  },
  "orig_nbformat": 4,
  "vscode": {
   "interpreter": {
    "hash": "aee8b7b246df8f9039afb4144a1f6fd8d2ca17a180786b69acc140d282b71a49"
   }
  }
 },
 "nbformat": 4,
 "nbformat_minor": 2
}
