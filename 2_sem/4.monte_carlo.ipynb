{
 "cells": [
  {
   "attachments": {},
   "cell_type": "markdown",
   "metadata": {},
   "source": [
    "# Задание 4. Метод Монте-Карло вычисления определённых интегралов.\n",
    "\n",
    "План:\n",
    "1. Решим задачу в общем виде и проверим корректность решения на примерах.\n",
    "2. Вычислим число $\\pi$ с помощью метода Монте-Карло.\n",
    "3. Повторим gif-изображение из примера в презентации."
   ]
  },
  {
   "attachments": {},
   "cell_type": "markdown",
   "metadata": {},
   "source": [
    "### 1) Напишем функцию $\\texttt{monte \\_ carlo}$, которая вычисляет определённый интеграл по методу Монте-Карло для некоторой функции $\\texttt{f}$:"
   ]
  },
  {
   "attachments": {},
   "cell_type": "markdown",
   "metadata": {},
   "source": [
    "Импортируем необходимые библиотеки:"
   ]
  },
  {
   "cell_type": "code",
   "execution_count": 1,
   "metadata": {},
   "outputs": [],
   "source": [
    "import random\n",
    "import math"
   ]
  },
  {
   "cell_type": "code",
   "execution_count": 2,
   "metadata": {},
   "outputs": [],
   "source": [
    "def monte_carlo(f, a, b, n):\n",
    "    '''\n",
    "    f -- функция, определённый интеграл которой требуется вычислить\n",
    "    a -- начало промежутка интрегрирования [a, b]\n",
    "    b -- конец промежутка интрегрирования [a, b]\n",
    "    n -- количество случайных чисел (точность вычисления)\n",
    "    '''\n",
    "    random_values = [f(random.uniform(a, b)) for _ in range(n)]  # Случайные значения f(x), равномерно распределенные на отрезке [a, b]\n",
    "    average = sum(random_values) / n  # Среднее значение функции f(x) для всех n сгенерированных значений x\n",
    "    return (b - a) * average  # Интеграл f(x) на отрезке [a, b], вычисленный методом Монте-Карло"
   ]
  },
  {
   "attachments": {},
   "cell_type": "markdown",
   "metadata": {},
   "source": [
    "### Проверим работу этой функции на примерах:\n",
    "\n",
    "#### 1. $\\int_{0}^{2} x^2 e^x \\, dx$\n",
    "Ответ: $2 e^2 - 2 ≈ 12,7781$\n",
    "\n",
    "#### 2. $\\int_{0}^{2\\pi} \\sin(x) \\cos(x) \\, dx$\n",
    "Ответ: $0$"
   ]
  },
  {
   "cell_type": "code",
   "execution_count": 3,
   "metadata": {},
   "outputs": [
    {
     "name": "stdout",
     "output_type": "stream",
     "text": [
      "Первый интеграл: 12.8611\n",
      "Второй интеграл: 0.0098\n"
     ]
    }
   ],
   "source": [
    "def func_1(x):\n",
    "    return (x ** 2) * math.exp(x)\n",
    "\n",
    "\n",
    "def func_2(x):\n",
    "    return math.sin(x) * math.cos(x)\n",
    "\n",
    "\n",
    "print(f\"Первый интеграл: {monte_carlo(func_1, 0, 2, 10000):.4f}\")\n",
    "print(f\"Второй интеграл: {monte_carlo(func_2, 0, (2 * math.pi), 10000):.4f}\")"
   ]
  },
  {
   "attachments": {},
   "cell_type": "markdown",
   "metadata": {},
   "source": [
    "Ответы совпадают, функция $\\texttt{monte\\_carlo}$ работает корректно!"
   ]
  },
  {
   "attachments": {},
   "cell_type": "markdown",
   "metadata": {},
   "source": [
    "### 2) Теперь вычислим число $\\pi$ с помощью метода Монте-Карло.\n",
    "\n",
    "Методом Монте-Карло можно приближенно вычислить площадь круга. Используя эту площадь, можно приблизительно вычисить число $\\pi$:\n",
    "\n",
    "1. Сгенерирум случайную выборку точек с координатами $(x,y)$, принадлежащих квадрату со стороной $2$, вписанному в окружность радиуса $1$.\n",
    "2. Определим количество точек, попадающих внутрь окружности (расстояние от которых до центра $\\leq 1$).\n",
    "3. Вычислим отношение количества точек, попавших внутрь окружности, к общему количеству сгенерированных точек.\n",
    "4. Приблизительное значение числа $\\pi$ равно отношению площади круга $\\pi r^2$ к площади квадрата $4r^2$, т.е. $\\pi \\approx 4 * (\\text{кол-во точек внутри}) / (\\text{общее кол-во точек})$."
   ]
  },
  {
   "cell_type": "code",
   "execution_count": 4,
   "metadata": {},
   "outputs": [
    {
     "name": "stdout",
     "output_type": "stream",
     "text": [
      "π ≈ 3.14068\n"
     ]
    }
   ],
   "source": [
    "def pi_monte_carlo(n):\n",
    "    random_x_y = [(random.uniform(-1, 1), random.uniform(-1, 1)) for _ in range(n)]\n",
    "    inside_circle = 0\n",
    "    for i in random_x_y:\n",
    "        if math.sqrt((i[0] ** 2) + (i[1] ** 2)) <= 1:\n",
    "            inside_circle += 1\n",
    "    return 4 * inside_circle / n\n",
    "\n",
    "\n",
    "print(f'{chr(960)} \\u2248 {pi_monte_carlo(100000)}')"
   ]
  },
  {
   "attachments": {},
   "cell_type": "markdown",
   "metadata": {},
   "source": [
    "Понятно, что чем больше $\\texttt{n}$, тем точнее вычисления и тем ближе ответ к истинному значению числа $\\pi$."
   ]
  },
  {
   "attachments": {},
   "cell_type": "markdown",
   "metadata": {},
   "source": [
    "### 3) Напоследок, повторим gif-изображение из примера в презентации:"
   ]
  },
  {
   "cell_type": "code",
   "execution_count": null,
   "metadata": {
    "vscode": {
     "languageId": "shellscript"
    }
   },
   "outputs": [],
   "source": [
    "pip install matplotlib"
   ]
  },
  {
   "cell_type": "code",
   "execution_count": null,
   "metadata": {
    "vscode": {
     "languageId": "shellscript"
    }
   },
   "outputs": [],
   "source": [
    "pip install IPython"
   ]
  },
  {
   "cell_type": "code",
   "execution_count": 7,
   "metadata": {},
   "outputs": [],
   "source": [
    "import matplotlib.pyplot as plt\n",
    "from matplotlib.animation import FuncAnimation\n",
    "from IPython.display import HTML"
   ]
  },
  {
   "attachments": {},
   "cell_type": "markdown",
   "metadata": {},
   "source": [
    "Принцип работы этой функции тот же, что и у предыдущей. Основная разница заключается в использовании длины списка со значениями, попадающими внутрь круга, в качестве счётчика, а не простого \"$\\texttt{inside\\_circle += 1}$\"."
   ]
  },
  {
   "cell_type": "code",
   "execution_count": 11,
   "metadata": {},
   "outputs": [
    {
     "data": {
      "text/html": [
       "<img src=\"pi_monte_carlo.gif\" width=\"500\" height=\"500\" style=\"image-rendering: pixelated;\">"
      ],
      "text/plain": [
       "<IPython.core.display.HTML object>"
      ]
     },
     "execution_count": 11,
     "metadata": {},
     "output_type": "execute_result"
    }
   ],
   "source": [
    "def pi_monte_carlo_plt(n):\n",
    "    random_x_y = [(random.uniform(-1, 1), random.uniform(-1, 1)) for _ in range(n)]\n",
    "        \n",
    "    inside_circle = []\n",
    "    outside_circle = []\n",
    "    for i in random_x_y:\n",
    "        if math.sqrt((i[0] ** 2) + (i[1] ** 2)) <= 1:\n",
    "            inside_circle.append(i)\n",
    "        else:\n",
    "            outside_circle.append(i)\n",
    "    \n",
    "    x_inside = [i[0] for i in inside_circle]\n",
    "    y_inside = [i[1] for i in inside_circle]\n",
    "    x_outside = [i[0] for i in outside_circle]\n",
    "    y_outside = [i[1] for i in outside_circle]\n",
    "\n",
    "    plt.clf()\n",
    "\n",
    "    plt.xlim(0, 1)\n",
    "    plt.ylim(0, 1)\n",
    "    inside = plt.scatter(x_inside, y_inside, 1, 'red')\n",
    "    outside = plt.scatter(x_outside, y_outside, 1, 'blue')\n",
    "    plt.title(f'$n = {n}, \\pi \\u2248 {(4 * len(inside_circle) / n):.4f}$')\n",
    "\n",
    "    plt.close()\n",
    "    plt.show()\n",
    "    return [inside, outside]\n",
    "\n",
    "\n",
    "\n",
    "\"\"\"Создаём анимацию\"\"\"\n",
    "\n",
    "values = [3000, 4000, 5000, 6500, 8500, 10000, 15000, 18000, 24000, 30000]\n",
    "anim = FuncAnimation(plt.gcf(), pi_monte_carlo_plt, frames=values, interval=400)\n",
    "anim.save('pi_monte_carlo.gif', writer='pillow')\n",
    "\n",
    "\n",
    "\"\"\"Заставляем Jupiter Notebook вывести gif-изображение в масштабе 1:1\"\"\"\n",
    "\n",
    "HTML('<img src=\"pi_monte_carlo.gif\" width=\"500\" height=\"500\" style=\"image-rendering: pixelated;\">')\n",
    "\n"
   ]
  }
 ],
 "metadata": {
  "kernelspec": {
   "display_name": "Python 3",
   "language": "python",
   "name": "python3"
  },
  "language_info": {
   "codemirror_mode": {
    "name": "ipython",
    "version": 3
   },
   "file_extension": ".py",
   "mimetype": "text/x-python",
   "name": "python",
   "nbconvert_exporter": "python",
   "pygments_lexer": "ipython3",
   "version": "3.11.0"
  },
  "orig_nbformat": 4
 },
 "nbformat": 4,
 "nbformat_minor": 2
}
