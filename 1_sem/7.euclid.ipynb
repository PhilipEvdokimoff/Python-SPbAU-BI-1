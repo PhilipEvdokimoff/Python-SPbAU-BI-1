{
 "cells": [
  {
   "cell_type": "markdown",
   "metadata": {},
   "source": [
    "# Алгоритм Евклида\n",
    "\n",
    "### $\\textit{Поиск НОДа и НОКа двух чисел}$"
   ]
  },
  {
   "cell_type": "code",
   "execution_count": 2,
   "metadata": {},
   "outputs": [
    {
     "name": "stdout",
     "output_type": "stream",
     "text": [
      "НОД(5, 25): 5\n",
      "НОК(5, 25): 25\n",
      "\n",
      "НОД(32, 24): 8\n",
      "НОК(32, 24): 96\n",
      "\n",
      "НОД(7, 44): 1\n",
      "НОК(7, 44): 308\n"
     ]
    }
   ],
   "source": [
    "def gcd(a, b):\n",
    "    \"\"\"Алгоритм Евклида\"\"\"\n",
    "    if a >= b:\n",
    "        if b == 0:\n",
    "            return a\n",
    "        else:\n",
    "            return gcd(b, a % b)\n",
    "    else:\n",
    "        a, b = b, a\n",
    "        return gcd(a, b)\n",
    "\n",
    "\n",
    "def print_gcd(a, b):\n",
    "    \"\"\"Печать gcd\"\"\" # Однако не только НОДа, но и НОКа\n",
    "    print(f\"НОД({a}, {b}): \" + str(gcd(a, b)) + f\"\\nНОК({a}, {b}): \" + str((a * b) // gcd(a, b)))\n",
    "\n",
    "\n",
    "\"\"\"Проверка работы программы\"\"\"\n",
    "\n",
    "print_gcd(5, 25)\n",
    "print('')\n",
    "print_gcd(32, 24)\n",
    "print('')\n",
    "print_gcd(7, 44)"
   ]
  }
 ],
 "metadata": {
  "kernelspec": {
   "display_name": "Python 3.10.7 64-bit",
   "language": "python",
   "name": "python3"
  },
  "language_info": {
   "codemirror_mode": {
    "name": "ipython",
    "version": 3
   },
   "file_extension": ".py",
   "mimetype": "text/x-python",
   "name": "python",
   "nbconvert_exporter": "python",
   "pygments_lexer": "ipython3",
   "version": "3.10.8"
  },
  "orig_nbformat": 4,
  "vscode": {
   "interpreter": {
    "hash": "aee8b7b246df8f9039afb4144a1f6fd8d2ca17a180786b69acc140d282b71a49"
   }
  }
 },
 "nbformat": 4,
 "nbformat_minor": 2
}
