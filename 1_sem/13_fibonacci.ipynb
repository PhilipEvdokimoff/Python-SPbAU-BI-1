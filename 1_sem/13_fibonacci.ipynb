{
 "cells": [
  {
   "attachments": {},
   "cell_type": "markdown",
   "metadata": {},
   "source": [
    "# Задание 13: числа Фибоначчи"
   ]
  },
  {
   "cell_type": "code",
   "execution_count": 3,
   "metadata": {
    "collapsed": true
   },
   "outputs": [],
   "source": [
    "class Fib:\n",
    "    \"\"\"По объектам этого класса можно итерироваться и получать числа Фибоначчи\"\"\"\n",
    "\n",
    "    class _Fib_iter:\n",
    "        \"\"\"Внутренний класс — итератор\"\"\"\n",
    "\n",
    "        def __init__(self):\n",
    "            self.i = 0\n",
    "            self.fib_previous = 0\n",
    "            self.fib_last = 1\n",
    "            \n",
    "        def __next__(self):\n",
    "            if 0 <= self.i <= 1:\n",
    "                j = self.i\n",
    "                self.i += 1\n",
    "                return j\n",
    "            if self.i >= 2:\n",
    "                j = self.fib_previous + self.fib_last\n",
    "                self.i += 1\n",
    "                self.fib_previous, self.fib_last = self.fib_last, self.fib_previous + self.fib_last\n",
    "                return j\n",
    "\n",
    "    def __iter__(self):\n",
    "        \"\"\"Создать и вернуть итератор\"\"\"\n",
    "        return Fib._Fib_iter()"
   ]
  },
  {
   "attachments": {},
   "cell_type": "markdown",
   "metadata": {},
   "source": [
    "Печать чисел подряд и в виде списка:"
   ]
  },
  {
   "cell_type": "code",
   "execution_count": 6,
   "metadata": {
    "collapsed": false
   },
   "outputs": [
    {
     "name": "stdout",
     "output_type": "stream",
     "text": [
      "0\n",
      "1\n",
      "1\n",
      "2\n",
      "3\n",
      "5\n",
      "8\n",
      "13\n",
      "21\n",
      "34\n",
      "55\n",
      "89\n",
      "144\n",
      "233\n",
      "377\n",
      "610\n",
      "987\n",
      "1597\n",
      "2584\n",
      "4181\n",
      "6765\n",
      "10946\n",
      "17711\n",
      "28657\n",
      "46368\n",
      "75025\n",
      "121393\n",
      "196418\n",
      "317811\n",
      "514229\n"
     ]
    }
   ],
   "source": [
    "from itertools import islice\n",
    "\n",
    "for i in islice(Fib(), 30):\n",
    "    print(i)"
   ]
  }
 ],
 "metadata": {
  "kernelspec": {
   "display_name": "Python 3",
   "language": "python",
   "name": "python3"
  },
  "language_info": {
   "codemirror_mode": {
    "name": "ipython",
    "version": 3
   },
   "file_extension": ".py",
   "mimetype": "text/x-python",
   "name": "python",
   "nbconvert_exporter": "python",
   "pygments_lexer": "ipython3",
   "version": "3.11.0"
  },
  "vscode": {
   "interpreter": {
    "hash": "1a1af0ee75eeea9e2e1ee996c87e7a2b11a0bebd85af04bb136d915cefc0abce"
   }
  }
 },
 "nbformat": 4,
 "nbformat_minor": 0
}
