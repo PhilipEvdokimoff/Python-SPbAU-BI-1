{
 "cells": [
  {
   "attachments": {},
   "cell_type": "markdown",
   "metadata": {},
   "source": [
    "# Задание 13: числа Фибоначчи"
   ]
  },
  {
   "cell_type": "code",
   "execution_count": 1,
   "metadata": {
    "collapsed": true
   },
   "outputs": [],
   "source": [
    "class Fib:\n",
    "    \"\"\"По объектам этого класса можно итерироваться и получать числа Фибоначчи\"\"\"\n",
    "\n",
    "    class _Fib_iter:\n",
    "        \"\"\"Внутренний класс — итератор\"\"\"\n",
    "\n",
    "        def __init__(self):\n",
    "            self.i = 0\n",
    "            self.fibs = [0, 1]  # Именно 0 и 1, потому что у чисел Фибоначчи только они и определены без формулы.\n",
    "\n",
    "        def __add__(self, a):\n",
    "            self.fibs.append(a)\n",
    "\n",
    "        def __next__(self):\n",
    "            if self.i >= 30:           # Останавливается на 30-м числе Фибоначчи.\n",
    "                raise StopIteration()  # Если закомментировать это ветвление, будет работать бесконечно.\n",
    "            if self.i >= 2:\n",
    "                j = self.i\n",
    "                self.i += 1\n",
    "                fib_previous = self.fibs[j - 2]\n",
    "                fib_last = self.fibs[j - 1]\n",
    "                fib_previous, fib_last = fib_last, fib_previous + fib_last\n",
    "                self.__add__(fib_last)\n",
    "                return self.fibs[j]\n",
    "            else:\n",
    "                j = self.i  # Вывод первых двух изначальных чисел из списка\n",
    "                self.i += 1\n",
    "                return self.fibs[j]\n",
    "\n",
    "    def __iter__(self):\n",
    "        \"\"\"Создать и вернуть итератор\"\"\"\n",
    "        return Fib._Fib_iter()"
   ]
  },
  {
   "attachments": {},
   "cell_type": "markdown",
   "metadata": {},
   "source": [
    "Печать чисел подряд и в виде списка:"
   ]
  },
  {
   "cell_type": "code",
   "execution_count": 2,
   "metadata": {
    "collapsed": false
   },
   "outputs": [
    {
     "name": "stdout",
     "output_type": "stream",
     "text": [
      "0\n",
      "1\n",
      "1\n",
      "2\n",
      "3\n",
      "5\n",
      "8\n",
      "13\n",
      "21\n",
      "34\n",
      "55\n",
      "89\n",
      "144\n",
      "233\n",
      "377\n",
      "610\n",
      "987\n",
      "1597\n",
      "2584\n",
      "4181\n",
      "6765\n",
      "10946\n",
      "17711\n",
      "28657\n",
      "46368\n",
      "75025\n",
      "121393\n",
      "196418\n",
      "317811\n",
      "514229\n",
      "[0, 1, 1, 2, 3, 5, 8, 13, 21, 34, 55, 89, 144, 233, 377, 610, 987, 1597, 2584, 4181, 6765, 10946, 17711, 28657, 46368, 75025, 121393, 196418, 317811, 514229]\n"
     ]
    }
   ],
   "source": [
    "f = Fib()\n",
    "\n",
    "for i in f:\n",
    "    print(i)\n",
    "\n",
    "print(list(f))"
   ]
  }
 ],
 "metadata": {
  "kernelspec": {
   "display_name": "Python 3",
   "language": "python",
   "name": "python3"
  },
  "language_info": {
   "codemirror_mode": {
    "name": "ipython",
    "version": 3
   },
   "file_extension": ".py",
   "mimetype": "text/x-python",
   "name": "python",
   "nbconvert_exporter": "python",
   "pygments_lexer": "ipython3",
   "version": "3.11.0"
  },
  "vscode": {
   "interpreter": {
    "hash": "1a1af0ee75eeea9e2e1ee996c87e7a2b11a0bebd85af04bb136d915cefc0abce"
   }
  }
 },
 "nbformat": 4,
 "nbformat_minor": 0
}
